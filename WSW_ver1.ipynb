{
 "cells": [
  {
   "cell_type": "markdown",
   "id": "68b861c7",
   "metadata": {},
   "source": [
    "This is the first version I submitted to Weber Shandwick, when I was almost first introduced in Python data analysis. This work was considered as a top candidate for the challenge and does its work, but I thought there is a room for improvement. I still share this with you because this is a good exapmle of how I can learn new materials in a short period of time (2days)."
   ]
  },
  {
   "cell_type": "code",
   "execution_count": 1,
   "id": "3ec39ca5",
   "metadata": {},
   "outputs": [],
   "source": [
    "import numpy as np\n",
    "import pandas as pd\n",
    "import matplotlib.pyplot as plt\n",
    "import nltk\n",
    "import re"
   ]
  },
  {
   "cell_type": "code",
   "execution_count": 3,
   "id": "f3ca60d6",
   "metadata": {},
   "outputs": [],
   "source": [
    "# import data\n",
    "df = pd.read_csv('Diet Coke Raw Data.csv',skiprows=5,low_memory=False)"
   ]
  },
  {
   "cell_type": "markdown",
   "id": "4e7f4e3c",
   "metadata": {},
   "source": [
    "# Task 1"
   ]
  },
  {
   "cell_type": "code",
   "execution_count": 47,
   "id": "34ab9490",
   "metadata": {},
   "outputs": [
    {
     "name": "stdout",
     "output_type": "stream",
     "text": [
      "378334.0\n"
     ]
    }
   ],
   "source": [
    "df['Page_Type']=df['Page_Type'].str.lower()\n",
    "df = df[df.Page_Type.isin(['twitter', 'instagram', 'facebook', 'news', 'blog','forum'])]\n",
    "df['Category']=df['Page_Type'].map({'twitter':'Social','instagram':'Social', 'facebook':'Social',\n",
    "                                   'news':'News','blog':'Blog & Forum','forum':'Blog & Forum'}) #mapping into types\n",
    "df.Sentiment = df.Sentiment.apply(pd.to_numeric, downcast='float',errors='coerce').dropna()\n",
    "sentsum=df.groupby(['Category'])['Sentiment'].sum()\n",
    "max_sent=sentsum.max()\n",
    "pos_sent=df.groupby(['Category'])['Sentiment'].value_counts(bins=3)[:]\n",
    "print(max_sent)\n",
    "df1=pd.DataFrame(data={'Pos Max':['Social'],'Total Sentiment':[max_sent]})"
   ]
  },
  {
   "cell_type": "code",
   "execution_count": 3,
   "id": "1391e38b",
   "metadata": {},
   "outputs": [],
   "source": [
    "#Categorize into 'Social','News','Blog & Forum'\n",
    "\n",
    "df['Page_Type']=df['Page_Type'].str.lower() #I see that there are two types of page types, Initial capitalized and not capitilized so I decided to make everything lower case\n",
    "df = df[df.Page_Type.isin(['twitter', 'instagram', 'facebook', 'news', 'blog','forum'])] #only keep if they are in required category\n",
    "conditions = [(df['Page_Type'].isin(['twitter', 'instagram', 'facebook'])),\n",
    "             (df['Page_Type']=='news'),\n",
    "             (df['Page_Type'].isin(['blog','forum']))] #conditions to categorize\n",
    "categories = ['Social','News','Blog & Forum'] #category names\n",
    "df['Category'] = np.select(conditions, categories) #new row to tag items with their new categories\n",
    "\n",
    "#Sentiment cleaning\n",
    "df.Sentiment=df.Sentiment.apply(pd.to_numeric,downcast='float',errors = 'coerce').dropna() #convert all sentiment into float\n",
    "\n",
    "#Sentiment counting of each category\n",
    "sentiment_sum=df.groupby(['Category'])['Sentiment'].sum()\n",
    "df1=pd.DataFrame(index = categories+['Max','Max Value'])\n",
    "sentiment_sum_highest=np.append(sentiment_sum.values,[sentiment_sum.idxmax(),sentiment_sum.max()])\n",
    "df1['Sentiment Sum']=sentiment_sum_highest\n",
    "\n",
    "#Positive sentiment counting\n",
    "sentiment_sum_each=df.groupby(['Category','Sentiment'])['Sentiment'].sum()\n",
    "positive_sum=sentiment_sum_each.loc[:,1.0]\n",
    "pos_sent_sum_max=np.append(positive_sum,[positive_sum.idxmax(),positive_sum.max()])\n",
    "df1['Positive Sentiment Sum']=pos_sent_sum_max\n",
    "\n",
    "#export results in csv file\n",
    "df1.to_csv('task1')"
   ]
  },
  {
   "cell_type": "markdown",
   "id": "3bda9357",
   "metadata": {},
   "source": [
    "# Task 2"
   ]
  },
  {
   "cell_type": "code",
   "execution_count": 55,
   "id": "e1299e18",
   "metadata": {},
   "outputs": [],
   "source": [
    "handles = pd.read_csv('Brand Official Handle Keywords.csv')\n",
    "brand_keys=handles.keys().tolist()\n",
    "\n",
    "inv_dict=dict()\n",
    "def inv_dic(target_dict):\n",
    "    for col in target_dict.keys():\n",
    "        for row in target_dict[col]:\n",
    "            inv_dict[row]=col\n",
    "    return inv_dict\n",
    "\n",
    "inv_brand=inv_dic(handles)\n",
    "df['Official']=df.Author.map(inv_brand)"
   ]
  },
  {
   "cell_type": "code",
   "execution_count": 1,
   "id": "dae26ad9",
   "metadata": {},
   "outputs": [
    {
     "ename": "NameError",
     "evalue": "name 'pd' is not defined",
     "output_type": "error",
     "traceback": [
      "\u001b[0;31m---------------------------------------------------------------------------\u001b[0m",
      "\u001b[0;31mNameError\u001b[0m                                 Traceback (most recent call last)",
      "\u001b[0;32m/var/folders/p8/ggm3r0bx14sbjsb1ksyg2y6c0000gn/T/ipykernel_24081/2613015015.py\u001b[0m in \u001b[0;36m<module>\u001b[0;34m\u001b[0m\n\u001b[1;32m      1\u001b[0m \u001b[0;31m#functions to find the official posts for each brand\u001b[0m\u001b[0;34m\u001b[0m\u001b[0;34m\u001b[0m\u001b[0m\n\u001b[0;32m----> 2\u001b[0;31m \u001b[0mhandles\u001b[0m\u001b[0;34m=\u001b[0m\u001b[0mpd\u001b[0m\u001b[0;34m.\u001b[0m\u001b[0mread_csv\u001b[0m\u001b[0;34m(\u001b[0m\u001b[0;34m'Brand Official Handle Keywords.csv'\u001b[0m\u001b[0;34m)\u001b[0m \u001b[0;31m#import official handles data\u001b[0m\u001b[0;34m\u001b[0m\u001b[0;34m\u001b[0m\u001b[0m\n\u001b[0m\u001b[1;32m      3\u001b[0m \u001b[0mbrand_keys\u001b[0m\u001b[0;34m=\u001b[0m\u001b[0mhandles\u001b[0m\u001b[0;34m.\u001b[0m\u001b[0mkeys\u001b[0m\u001b[0;34m(\u001b[0m\u001b[0;34m)\u001b[0m\u001b[0;34m.\u001b[0m\u001b[0mtolist\u001b[0m\u001b[0;34m(\u001b[0m\u001b[0;34m)\u001b[0m \u001b[0;31m#extract keys for convenience\u001b[0m\u001b[0;34m\u001b[0m\u001b[0;34m\u001b[0m\u001b[0m\n\u001b[1;32m      4\u001b[0m \u001b[0;34m\u001b[0m\u001b[0m\n\u001b[1;32m      5\u001b[0m \u001b[0;32mdef\u001b[0m \u001b[0mofficial_posts\u001b[0m\u001b[0;34m(\u001b[0m\u001b[0mdf\u001b[0m\u001b[0;34m,\u001b[0m\u001b[0mbrand\u001b[0m\u001b[0;34m)\u001b[0m\u001b[0;34m:\u001b[0m \u001b[0;31m#returns official mentions of specified brand\u001b[0m\u001b[0;34m\u001b[0m\u001b[0;34m\u001b[0m\u001b[0m\n",
      "\u001b[0;31mNameError\u001b[0m: name 'pd' is not defined"
     ]
    }
   ],
   "source": [
    "#functions to find the official posts for each brand\n",
    "handles=pd.read_csv('Brand Official Handle Keywords.csv') #import official handles data\n",
    "brand_keys=handles.keys().tolist() #extract keys for convenience\n",
    "\n",
    "def official_posts(df,brand): #returns official mentions of specified brand\n",
    "    brand_handles=handles[brand]\n",
    "    return df.Full_Text[df.Author.isin(brand_handles)]\n",
    "\n",
    "officialrow=pd.Series(dtype=str)  #initiate officialrow\n",
    "for i in range(len(brand_keys)): #iterate for all brands\n",
    "    each=official_posts(df,brand_keys[i])\n",
    "    df2=each.where(official_posts(df,brand_keys[i]).isna(),brand_keys[i])\n",
    "    x = lambda s1, s2: s2 if s2==brand_keys[i] else s1\n",
    "    officialrow=officialrow.combine(df2,x) #update Series\n",
    "    \n",
    "df['Official']=officialrow #tag each rows"
   ]
  },
  {
   "cell_type": "code",
   "execution_count": 58,
   "id": "f30208e0",
   "metadata": {},
   "outputs": [],
   "source": [
    "engage=['Blog_Comments','Facebook_Comments','Facebook_Likes','Instagram_Comments','Instagram_Likes','Twitter_Reply_Count','Twitter_Retweets'] #columns that's supposed to be all integers\n",
    "df[engage]=df[engage].apply(pd.to_numeric,downcast='integer',errors='coerce').dropna()\n",
    "df['Social Engagements']=df[engage].sum(axis=1)\n"
   ]
  },
  {
   "cell_type": "code",
   "execution_count": 5,
   "id": "9b396d92",
   "metadata": {},
   "outputs": [],
   "source": [
    "col_int=['Twitter_Followers','Blog_Comments','Facebook_Comments','Facebook_Likes','Instagram_Comments','Instagram_Followers','Instagram_Likes','Twitter_Reply_Count','Twitter_Retweets'] #columns that's supposed to be all integers\n",
    "df[col_int]=df[col_int].apply(pd.to_numeric,downcast=\"integer\",errors = 'coerce').dropna() #change all of them into integers. if they aren't convertible to integers, drop them.\n",
    "df['Social_Engagements']=df[['Instagram_Comments','Blog_Comments','Facebook_Comments','Instagram_Likes','Twitter_Reply_Count','Facebook_Likes']].sum(axis=1) \n",
    "#the prompt says include repost but we don't have reposts. I treated reply counts in twitter as comments because that's how people use it like\n"
   ]
  },
  {
   "cell_type": "code",
   "execution_count": null,
   "id": "8f51e5fc",
   "metadata": {},
   "outputs": [],
   "source": [
    "df['Date']=pd.to_datetime(df['Date'],errors = 'coerce').dropna()\n",
    "df['DateYM']=pd.DatetimeIndex(df['Date']).strftime('%Y/%m')\n",
    "df['DateYM']=df['DateYM'].where(pd.to"
   ]
  },
  {
   "cell_type": "code",
   "execution_count": 6,
   "id": "40d6412b",
   "metadata": {},
   "outputs": [],
   "source": [
    "df['Date']=pd.to_datetime(df['Date'],errors = 'coerce').dropna() #make sure all Dates are date time format\n",
    "df['DateYM']=pd.DatetimeIndex(df['Date']).strftime('%Y/%m') #convert Dates into Month/Year\n",
    "df['DateYM']=df['DateYM'].where(pd.to_datetime(df['DateYM']).dt.strftime('%Y')!='1917','2017/11') #I found 11/1917 that assumed to be 11/2017 bc there was no internet back them so I added it up to 2017\n",
    "df=df.dropna(subset=['Full_Text']) #clean if Full_Text is not existent"
   ]
  },
  {
   "cell_type": "code",
   "execution_count": 7,
   "id": "11b5b91b",
   "metadata": {},
   "outputs": [],
   "source": [
    "df['Full_Text']=df['Full_Text'].apply(lambda x: x.lower())"
   ]
  },
  {
   "cell_type": "code",
   "execution_count": 8,
   "id": "a0e5cb26",
   "metadata": {},
   "outputs": [],
   "source": [
    "#initiate Series objects\n",
    "aboutrow=pd.Series(dtype=str) \n",
    "abouteach=pd.Series(dtype=str) \n",
    "\n",
    "#iterate for all brands\n",
    "for i in range(len(brand_keys)):\n",
    "    abouteach= df.Full_Text.map(lambda txt: brand_keys[i] if (brand_keys[i].lower() in txt) else None )\n",
    "    aboutrow=aboutrow.combine(abouteach, lambda row, each: each if each==brand_keys[i] else row)\n"
   ]
  },
  {
   "cell_type": "code",
   "execution_count": 9,
   "id": "40b81026",
   "metadata": {},
   "outputs": [],
   "source": [
    "df['About']=aboutrow #add new column of df for collective brand tags\n",
    "df3=df.groupby(['DateYM','About'])['Social_Engagements'].sum() #sum of social engagements for each brands of each month\n",
    "\n",
    "df3.to_csv('task2') #output result"
   ]
  },
  {
   "cell_type": "code",
   "execution_count": 10,
   "id": "2448df77",
   "metadata": {},
   "outputs": [
    {
     "name": "stdout",
     "output_type": "stream",
     "text": [
      "0             Venmo\n",
      "1           LaCroix\n",
      "2             Venmo\n",
      "3           LaCroix\n",
      "4         Diet Coke\n",
      "            ...    \n",
      "746419    Diet Coke\n",
      "746420     Glossier\n",
      "746421        Venmo\n",
      "746422        Venmo\n",
      "746423     Glossier\n",
      "Name: About, Length: 745542, dtype: object\n"
     ]
    }
   ],
   "source": [
    "print(df.About)"
   ]
  },
  {
   "cell_type": "markdown",
   "id": "389fa1f3",
   "metadata": {},
   "source": [
    "# Task 3"
   ]
  },
  {
   "cell_type": "code",
   "execution_count": 11,
   "id": "76632ed1",
   "metadata": {},
   "outputs": [],
   "source": [
    "emotions=pd.read_csv('Emotions Keywords.csv') #import keywords csv\n",
    "emotions_key=emotions.columns #emotion list"
   ]
  },
  {
   "cell_type": "code",
   "execution_count": 12,
   "id": "386a9fbe",
   "metadata": {},
   "outputs": [],
   "source": [
    "social_df=df[df['Category']=='Social'] #get social dataframe handy"
   ]
  },
  {
   "cell_type": "code",
   "execution_count": 13,
   "id": "899c6b2a",
   "metadata": {},
   "outputs": [],
   "source": [
    "emotions['Stressful']=emotions['Stressful'].drop_duplicates() #I found that there are two stressful-s"
   ]
  },
  {
   "cell_type": "code",
   "execution_count": null,
   "id": "2313b05e",
   "metadata": {},
   "outputs": [],
   "source": []
  },
  {
   "cell_type": "code",
   "execution_count": 14,
   "id": "e06a52dd",
   "metadata": {},
   "outputs": [
    {
     "name": "stdout",
     "output_type": "stream",
     "text": [
      "0\n"
     ]
    },
    {
     "name": "stderr",
     "output_type": "stream",
     "text": [
      "/var/folders/p8/ggm3r0bx14sbjsb1ksyg2y6c0000gn/T/ipykernel_19136/347814978.py:5: UserWarning: This pattern has match groups. To actually get the groups, use str.extract.\n",
      "  emo_bool=social_df.Full_Text.str.contains(emo_regexs) #does the list have the regex\n"
     ]
    },
    {
     "name": "stdout",
     "output_type": "stream",
     "text": [
      "1\n",
      "2\n",
      "3\n",
      "4\n",
      "5\n",
      "6\n",
      "7\n",
      "8\n",
      "9\n",
      "10\n",
      "11\n",
      "12\n",
      "13\n"
     ]
    }
   ],
   "source": [
    "for i in range(len(emotions.columns)): #for each emotions~almost\n",
    "    emotion_list = emotions.iloc[:,i].dropna().tolist() #clean list of values of the iterated emotion\n",
    "    emo_regexs= re.compile(r'\\b(:{})\\b'.format('|'.join(emotion_list))) #make regex out of list\n",
    "    emo_bool=social_df.Full_Text.str.contains(emo_regexs) #does the list have the regex\n",
    "    emo_tag_new=emo_bool.map(lambda emotion: [emotions_key[i]] if emotion==True else []) #put list with emotion name or empty list\n",
    "    if i == 0: emo_tag_sum = emo_tag_new #for the first iteration, we don't have sum to combine with new\n",
    "    else: emo_tag_sum=emo_tag_new+emo_tag_sum #combine two lists of series into new series"
   ]
  },
  {
   "cell_type": "code",
   "execution_count": 15,
   "id": "f315c702",
   "metadata": {},
   "outputs": [],
   "source": [
    "df['Emotion Topics']=emo_tag_sum.apply(tuple)\n",
    "# No csv output required, so just added them to original dataframe. it can be outputted at the last kernel if needed"
   ]
  },
  {
   "cell_type": "markdown",
   "id": "878fa9ae",
   "metadata": {},
   "source": [
    "# Task 4"
   ]
  },
  {
   "cell_type": "markdown",
   "id": "1094d480",
   "metadata": {},
   "source": [
    "VADER is good for social media texts but it took forever to use its funtions to iterate.\n",
    "So I also imported nltk to do it as a list comprehension with lexicons from vader.\n",
    "Be aware that it still takes a lot LONGer than other kernels. \n",
    "you don't need to download nltk, lucky!"
   ]
  },
  {
   "cell_type": "code",
   "execution_count": 17,
   "id": "9ea755c0",
   "metadata": {},
   "outputs": [
    {
     "name": "stderr",
     "output_type": "stream",
     "text": [
      "[nltk_data] Downloading package vader_lexicon to\n",
      "[nltk_data]     /Users/syunie/nltk_data...\n",
      "[nltk_data]   Package vader_lexicon is already up-to-date!\n"
     ]
    }
   ],
   "source": [
    "nltk.download('vader_lexicon')\n",
    "from nltk.sentiment.vader import SentimentIntensityAnalyzer\n",
    "sent = SentimentIntensityAnalyzer()\n",
    "df['New Sentiment'] = df['Full_Text'].apply(lambda mention: sent.polarity_scores(mention).values())"
   ]
  },
  {
   "cell_type": "code",
   "execution_count": 19,
   "id": "2f43f605",
   "metadata": {},
   "outputs": [],
   "source": [
    "df['New Sentiment']=df['New Sentiment'].apply(lambda dictlist: list(dictlist)) #new sentiment now contians list of neg,neu,pos\n",
    "df['New Sentiment']=df['New Sentiment'].apply(lambda emotion: emotion[3])"
   ]
  },
  {
   "cell_type": "code",
   "execution_count": 20,
   "id": "d73a3b64",
   "metadata": {},
   "outputs": [
    {
     "name": "stdout",
     "output_type": "stream",
     "text": [
      "   Excitement  Surprise  Pleasant  Refreshed  Energetic  Restful  Thankful  \\\n",
      "0           0         0         0          0          0        0         0   \n",
      "1           0         0         0          0          0        0         0   \n",
      "2           0         0         0          0          0        0         0   \n",
      "\n",
      "   Angry  Annoy  Anxiety  Frustration  Powerless  Stressful  Sad  \n",
      "0      0      0        0            0          0          0    0  \n",
      "1      0      0        0            0          0          0    0  \n",
      "2      0      0        0            0          0          0    0  \n"
     ]
    }
   ],
   "source": [
    "dfgroup=df.groupby(['Emotion Topics'])['New Sentiment'].mean()\n",
    "df4=pd.DataFrame(columns=emotions_key.to_list())\n",
    "for i in range(14): #making an empty dataframe as {0: '# of group apperance', 1: 'Sum',2:'Avg'}. will label them later\n",
    "    df4[emotions_key.to_list()[i]]=[0,0,0]"
   ]
  },
  {
   "cell_type": "code",
   "execution_count": 21,
   "id": "856975ff",
   "metadata": {},
   "outputs": [],
   "source": [
    "for i in range(1,len(dfgroup)):\n",
    "    for l in range(len(dfgroup.keys()[i])):\n",
    "        df4[dfgroup.keys()[i][l]]=[df4[dfgroup.keys()[i][l]][0]+1,df4[dfgroup.keys()[i][l]][1]+dfgroup[i],0]\n",
    "\n",
    "df4.iloc[2]=df4.iloc[1].divide(df4.iloc[0])\n",
    "df4=df4.rename(index={0: '# of group apperance', 1: 'Sum',2:'Avg'})\n",
    "df4.to_csv('task4') #export result"
   ]
  },
  {
   "cell_type": "markdown",
   "id": "8d1db9a1",
   "metadata": {},
   "source": [
    "# Task 5"
   ]
  },
  {
   "cell_type": "code",
   "execution_count": 22,
   "id": "029d9f2b",
   "metadata": {},
   "outputs": [],
   "source": [
    "df['Weeks']=df.Date.dt.isocalendar().week\n",
    "df['Years']=df.Date.dt.isocalendar().year\n",
    "df['Years']=df['Years'].where(df['Years']!=1917,2017) #replacing 1917 to 2017"
   ]
  },
  {
   "cell_type": "code",
   "execution_count": 23,
   "id": "f02e432d",
   "metadata": {},
   "outputs": [
    {
     "name": "stdout",
     "output_type": "stream",
     "text": [
      "   Social_Engagements  Years  Weeks  New Sentiment\n",
      "0                 0.0   2018      3         0.8513\n",
      "1                 0.0   2018      2         0.1280\n",
      "2                 0.0   2017     48        -0.5667\n",
      "3                 0.0   2018      2         0.0000\n",
      "4                 0.0   2017     49         0.5267\n"
     ]
    }
   ],
   "source": [
    "#I will use only a part of the df to make my computer work less.. \n",
    "\n",
    "social_df=df[df['Category']=='Social'].filter(items=['Social_Engagements','Years','Weeks','New Sentiment'])\n",
    "print(social_df.head())"
   ]
  },
  {
   "cell_type": "code",
   "execution_count": 24,
   "id": "1da6c5dc",
   "metadata": {},
   "outputs": [],
   "source": [
    "social_df['Sign sentiment'] = np.sign(df['New Sentiment'])\n",
    "possum=social_df.groupby(['Years','Weeks'])['Sign sentiment'].value_counts().unstack()[0] #sum of all positive sentiments each week\n",
    "allsum=social_df.groupby(['Years','Weeks'])['Sign sentiment'].value_counts().unstack().sum(axis=1) #sum of all sentimenrs each week\n",
    "pos_per=possum.divide(allsum)*100 #make it percentage"
   ]
  },
  {
   "cell_type": "code",
   "execution_count": 25,
   "id": "d31d986a",
   "metadata": {},
   "outputs": [
    {
     "data": {
      "image/png": "[encoded data removed]",
      "text/plain": [
       "<Figure size 432x288 with 1 Axes>"
      ]
     },
     "metadata": {
      "needs_background": "light"
     },
     "output_type": "display_data"
    }
   ],
   "source": [
    "# create data\n",
    "x = np.array(range(9,52+16)) #week\n",
    "y = np.array(pos_per.multiply(100)).astype('float') #percentage of positive mentions\n",
    "z = np.array(social_df.groupby(['Years','Weeks'])['Social_Engagements'].sum()) #engagement\n",
    "colors = np.random.rand(40) \n",
    "\n",
    "plt.scatter(x, y, s=z/800, c=y, cmap='Greens')\n",
    "plt.title('Engagement Weekly Change')\n",
    "plt.xlabel('Week (#)')\n",
    "plt.ylabel('Percentage of Positive Mentions (%)')\n",
    "plt.show()"
   ]
  },
  {
   "cell_type": "markdown",
   "id": "d06db948",
   "metadata": {},
   "source": [
    "The size of the bubble indicates the size of engagements on social mentions"
   ]
  },
  {
   "cell_type": "markdown",
   "id": "80851d3d",
   "metadata": {},
   "source": [
    "# Relevant Works"
   ]
  },
  {
   "cell_type": "code",
   "execution_count": 26,
   "id": "5530efe5",
   "metadata": {},
   "outputs": [],
   "source": [
    "df.to_csv('dataframe scraps')"
   ]
  },
  {
   "cell_type": "markdown",
   "id": "43b615a0",
   "metadata": {},
   "source": [
    "I am not sure if I can disclose the sample csv data. "
   ]
  }
 ],
 "metadata": {
  "kernelspec": {
   "display_name": "Python 3 (ipykernel)",
   "language": "python",
   "name": "python3"
  },
  "language_info": {
   "codemirror_mode": {
    "name": "ipython",
    "version": 3
   },
   "file_extension": ".py",
   "mimetype": "text/x-python",
   "name": "python",
   "nbconvert_exporter": "python",
   "pygments_lexer": "ipython3",
   "version": "3.9.7"
  }
 },
 "nbformat": 4,
 "nbformat_minor": 5
}
