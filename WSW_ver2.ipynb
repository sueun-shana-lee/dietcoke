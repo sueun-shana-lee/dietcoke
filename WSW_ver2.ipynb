{
 "cells": [
  {
   "cell_type": "markdown",
   "id": "2f116235",
   "metadata": {},
   "source": [
    "According to the background given, Cocacola launched a new packaging and labels to fix the stagnation in sales with Millenials (born in 1981-1996). However, I did not see the given tasks I did in WSW_ver1 as the best way to analyze the new launch's performance. Therefore, I constructed a new analaysis process to analyze the performance in this WSW_ver2.\n",
    "Also, there's no way to identify people's generation in the dataset (no birthdays or age), so I will assume that the one who collected the data limited these from users who are Millenials for this project."
   ]
  },
  {
   "cell_type": "code",
   "execution_count": 1,
   "id": "a91958b8",
   "metadata": {},
   "outputs": [],
   "source": [
    "import numpy as np\n",
    "import pandas as pd\n",
    "import matplotlib.pyplot as plt\n",
    "import matplotlib.axes as ax\n",
    "import nltk\n",
    "import re"
   ]
  },
  {
   "cell_type": "code",
   "execution_count": 2,
   "id": "ef9ea46c",
   "metadata": {},
   "outputs": [
    {
     "data": {
      "text/html": [
       "<div>\n",
       "<style scoped>\n",
       "    .dataframe tbody tr th:only-of-type {\n",
       "        vertical-align: middle;\n",
       "    }\n",
       "\n",
       "    .dataframe tbody tr th {\n",
       "        vertical-align: top;\n",
       "    }\n",
       "\n",
       "    .dataframe thead th {\n",
       "        text-align: right;\n",
       "    }\n",
       "</style>\n",
       "<table border=\"1\" class=\"dataframe\">\n",
       "  <thead>\n",
       "    <tr style=\"text-align: right;\">\n",
       "      <th></th>\n",
       "      <th>Author</th>\n",
       "      <th>Blog_Comments</th>\n",
       "      <th>Date</th>\n",
       "      <th>Facebook_Comments</th>\n",
       "      <th>Facebook_Likes</th>\n",
       "      <th>Full_Text</th>\n",
       "      <th>Instagram_Comments</th>\n",
       "      <th>Instagram_Followers</th>\n",
       "      <th>Instagram_Likes</th>\n",
       "      <th>Page_Type</th>\n",
       "      <th>Sentiment</th>\n",
       "      <th>Thread_Entry_Type</th>\n",
       "      <th>Thread_URL</th>\n",
       "      <th>Twitter_Followers</th>\n",
       "      <th>Twitter_Reply_Count</th>\n",
       "      <th>Twitter_Reply_to</th>\n",
       "      <th>Twitter_Retweets</th>\n",
       "      <th>Url</th>\n",
       "    </tr>\n",
       "  </thead>\n",
       "  <tbody>\n",
       "    <tr>\n",
       "      <th>0</th>\n",
       "      <td>vic91597</td>\n",
       "      <td>0.0</td>\n",
       "      <td>2018-01-16 16:24:24.0</td>\n",
       "      <td>0.0</td>\n",
       "      <td>0.0</td>\n",
       "      <td>RT @misler_shane: Reply with your venmo/paypal...</td>\n",
       "      <td>0.0</td>\n",
       "      <td>0.0</td>\n",
       "      <td>0.0</td>\n",
       "      <td>twitter</td>\n",
       "      <td>0.5</td>\n",
       "      <td>share</td>\n",
       "      <td>NaN</td>\n",
       "      <td>303.0</td>\n",
       "      <td>0</td>\n",
       "      <td>NaN</td>\n",
       "      <td>0.0</td>\n",
       "      <td>NaN</td>\n",
       "    </tr>\n",
       "    <tr>\n",
       "      <th>1</th>\n",
       "      <td>ENRIKAY_</td>\n",
       "      <td>0.0</td>\n",
       "      <td>2018-01-08 02:17:07.0</td>\n",
       "      <td>0.0</td>\n",
       "      <td>0.0</td>\n",
       "      <td>Weirdest white ppl I ever seen play pool here ...</td>\n",
       "      <td>0.0</td>\n",
       "      <td>0.0</td>\n",
       "      <td>0</td>\n",
       "      <td>twitter</td>\n",
       "      <td>0.5</td>\n",
       "      <td>post</td>\n",
       "      <td>NaN</td>\n",
       "      <td>216.0</td>\n",
       "      <td>0</td>\n",
       "      <td>NaN</td>\n",
       "      <td>0</td>\n",
       "      <td>NaN</td>\n",
       "    </tr>\n",
       "    <tr>\n",
       "      <th>2</th>\n",
       "      <td>jfranco707</td>\n",
       "      <td>0.0</td>\n",
       "      <td>2017-11-30 01:41:22.0</td>\n",
       "      <td>0.0</td>\n",
       "      <td>0.0</td>\n",
       "      <td>RT @BillyLeslie22: “if you call the uber i’ll ...</td>\n",
       "      <td>0.0</td>\n",
       "      <td>0.0</td>\n",
       "      <td>0</td>\n",
       "      <td>twitter</td>\n",
       "      <td>0.5</td>\n",
       "      <td>share</td>\n",
       "      <td>NaN</td>\n",
       "      <td>390.0</td>\n",
       "      <td>0</td>\n",
       "      <td>NaN</td>\n",
       "      <td>0</td>\n",
       "      <td>NaN</td>\n",
       "    </tr>\n",
       "    <tr>\n",
       "      <th>3</th>\n",
       "      <td>acide.mat</td>\n",
       "      <td>0.0</td>\n",
       "      <td>2018-01-11 04:55:47.0</td>\n",
       "      <td>0.0</td>\n",
       "      <td>0</td>\n",
       "      <td>✖️LCLB✖️\\n.\\n.\\n.\\n.\\n.\\n.\\n.\\n.\\n.\\n.\\n.\\n.\\n...</td>\n",
       "      <td>0</td>\n",
       "      <td>0.0</td>\n",
       "      <td>0</td>\n",
       "      <td>instagram</td>\n",
       "      <td>0.5</td>\n",
       "      <td>post</td>\n",
       "      <td>NaN</td>\n",
       "      <td>0.0</td>\n",
       "      <td>0</td>\n",
       "      <td>NaN</td>\n",
       "      <td>0</td>\n",
       "      <td>NaN</td>\n",
       "    </tr>\n",
       "    <tr>\n",
       "      <th>4</th>\n",
       "      <td>_Shinyy_21</td>\n",
       "      <td>0.0</td>\n",
       "      <td>2017-12-05 18:25:07.0</td>\n",
       "      <td>0.0</td>\n",
       "      <td>0</td>\n",
       "      <td>@Oliviaaaaascho I miss getting diet Coke’s wit...</td>\n",
       "      <td>0.0</td>\n",
       "      <td>0.0</td>\n",
       "      <td>0</td>\n",
       "      <td>twitter</td>\n",
       "      <td>0.5</td>\n",
       "      <td>reply</td>\n",
       "      <td>NaN</td>\n",
       "      <td>1047.0</td>\n",
       "      <td>0</td>\n",
       "      <td>http://twitter.com/Oliviaaaaascho/statuses/938...</td>\n",
       "      <td>0</td>\n",
       "      <td>NaN</td>\n",
       "    </tr>\n",
       "  </tbody>\n",
       "</table>\n",
       "</div>"
      ],
      "text/plain": [
       "       Author  Blog_Comments                   Date  Facebook_Comments  \\\n",
       "0    vic91597            0.0  2018-01-16 16:24:24.0                0.0   \n",
       "1    ENRIKAY_            0.0  2018-01-08 02:17:07.0                0.0   \n",
       "2  jfranco707            0.0  2017-11-30 01:41:22.0                0.0   \n",
       "3   acide.mat            0.0  2018-01-11 04:55:47.0                0.0   \n",
       "4  _Shinyy_21            0.0  2017-12-05 18:25:07.0                0.0   \n",
       "\n",
       "  Facebook_Likes                                          Full_Text  \\\n",
       "0            0.0  RT @misler_shane: Reply with your venmo/paypal...   \n",
       "1            0.0  Weirdest white ppl I ever seen play pool here ...   \n",
       "2            0.0  RT @BillyLeslie22: “if you call the uber i’ll ...   \n",
       "3              0  ✖️LCLB✖️\\n.\\n.\\n.\\n.\\n.\\n.\\n.\\n.\\n.\\n.\\n.\\n.\\n...   \n",
       "4              0  @Oliviaaaaascho I miss getting diet Coke’s wit...   \n",
       "\n",
       "  Instagram_Comments  Instagram_Followers Instagram_Likes  Page_Type  \\\n",
       "0                0.0                  0.0             0.0    twitter   \n",
       "1                0.0                  0.0               0    twitter   \n",
       "2                0.0                  0.0               0    twitter   \n",
       "3                  0                  0.0               0  instagram   \n",
       "4                0.0                  0.0               0    twitter   \n",
       "\n",
       "  Sentiment Thread_Entry_Type Thread_URL  Twitter_Followers  \\\n",
       "0       0.5             share        NaN              303.0   \n",
       "1       0.5              post        NaN              216.0   \n",
       "2       0.5             share        NaN              390.0   \n",
       "3       0.5              post        NaN                0.0   \n",
       "4       0.5             reply        NaN             1047.0   \n",
       "\n",
       "  Twitter_Reply_Count                                   Twitter_Reply_to  \\\n",
       "0                   0                                                NaN   \n",
       "1                   0                                                NaN   \n",
       "2                   0                                                NaN   \n",
       "3                   0                                                NaN   \n",
       "4                   0  http://twitter.com/Oliviaaaaascho/statuses/938...   \n",
       "\n",
       "  Twitter_Retweets  Url  \n",
       "0              0.0  NaN  \n",
       "1                0  NaN  \n",
       "2                0  NaN  \n",
       "3                0  NaN  \n",
       "4                0  NaN  "
      ]
     },
     "execution_count": 2,
     "metadata": {},
     "output_type": "execute_result"
    }
   ],
   "source": [
    "# import data, and shows the head of the dataset for preview\n",
    "df = pd.read_csv('Diet Coke Raw Data.csv',skiprows=5,low_memory=False)\n",
    "df.head() #for preview"
   ]
  },
  {
   "cell_type": "markdown",
   "id": "866bec7e",
   "metadata": {},
   "source": [
    "# Data Cleaning & Grouping"
   ]
  },
  {
   "cell_type": "code",
   "execution_count": 3,
   "id": "4e467e70",
   "metadata": {},
   "outputs": [],
   "source": [
    "##data cleaning - String columns\n",
    "\n",
    "df['Page_Type']=df['Page_Type'].str.lower() #Page Types had inconisistent capitalization\n",
    "df=df.dropna(subset=['Author','Full_Text']) #Not reliable or useful if Author or full text is nonexistent\n",
    "df=df[df.Page_Type.isin(['instagram','twitter','forum','facebook','news','blog'])] #only keeping significant groups"
   ]
  },
  {
   "cell_type": "code",
   "execution_count": 4,
   "id": "bbd73fc8",
   "metadata": {},
   "outputs": [],
   "source": [
    "##data cleaning - Numeric columns\n",
    "\n",
    "#Converting values in numeric into integer for easier calculations, and sum groupable numbers into one column for smaller dataset(Quicker work)\n",
    "engage=['Blog_Comments','Facebook_Comments','Facebook_Likes','Instagram_Comments','Instagram_Likes','Twitter_Reply_Count','Twitter_Retweets'] \n",
    "df[engage]=df[engage].apply(pd.to_numeric,downcast='integer',errors='coerce')\n",
    "df['Social_Engagements']=df[engage].sum(axis=1)\n",
    "df=df.drop(engage,axis=1)\n",
    "\n",
    "\n",
    "followers=['Instagram_Followers','Twitter_Followers']\n",
    "df[followers]=df[followers].apply(pd.to_numeric,downcast='integer',errors='coerce')\n",
    "df['Followers']=df[followers].sum(axis=1)\n",
    "df=df.drop(followers,axis=1)\n",
    "\n",
    "#Sentiment should have float values\n",
    "df.Sentiment = df.Sentiment.apply(pd.to_numeric, downcast='float',errors='coerce').dropna()\n",
    "\n"
   ]
  },
  {
   "cell_type": "code",
   "execution_count": 5,
   "id": "c1e0536b",
   "metadata": {},
   "outputs": [],
   "source": [
    "## data grouping - miscellaneous\n",
    "df['Category']=df['Page_Type'].map({'twitter':'Social','instagram':'Social', 'facebook':'Social',\n",
    "                                   'news':'News','blog':'Blog & Forum','forum':'Blog & Forum'}) #mapping into types\n"
   ]
  },
  {
   "cell_type": "code",
   "execution_count": 6,
   "id": "1c01279a",
   "metadata": {},
   "outputs": [],
   "source": [
    "df['Date']=pd.to_datetime(df.Date)\n",
    "df['Weeks']=df.Date.dt.isocalendar().week\n",
    "df['Years']=df.Date.dt.isocalendar().year\n",
    "df['Years']=df['Years'].where(df['Years']!=1917,2017) #replacing 1917 to 2017"
   ]
  },
  {
   "cell_type": "markdown",
   "id": "5a346169",
   "metadata": {},
   "source": [
    "# Update Sentiments, Tag Emotions"
   ]
  },
  {
   "cell_type": "code",
   "execution_count": 7,
   "id": "69078a39",
   "metadata": {},
   "outputs": [
    {
     "name": "stderr",
     "output_type": "stream",
     "text": [
      "/var/folders/p8/ggm3r0bx14sbjsb1ksyg2y6c0000gn/T/ipykernel_10593/2897623610.py:11: UserWarning: This pattern has match groups. To actually get the groups, use str.extract.\n",
      "  emo_bool=df.Full_Text.str.contains(emo_regexs) #does the list have the regex\n"
     ]
    }
   ],
   "source": [
    "#Tag emotions, using Emotion Keywords\n",
    "\n",
    "emotions=pd.read_csv('Emotions Keywords.csv') #import keywords csv\n",
    "emotions.head() #for preview\n",
    "emotions_key=emotions.columns #emotion list\n",
    "emotions['Stressful']=emotions['Stressful'].drop_duplicates() #I found that there are two stressful-s\n",
    "\n",
    "for i in range(len(emotions.columns)): #for each emotions\n",
    "    emotion_list = emotions.iloc[:,i].dropna().tolist() #clean list of values of the iterated emotion\n",
    "    emo_regexs= re.compile(r'\\b(:{})\\b'.format('|'.join(emotion_list))) #make regex out of list\n",
    "    emo_bool=df.Full_Text.str.contains(emo_regexs) #does the list have the regex\n",
    "    emo_tag_new=emo_bool.map(lambda emotion: [emotions_key[i]] if emotion==True else []) #put list with emotion name or empty list\n",
    "    if i == 0: emo_tag_sum = emo_tag_new #for the first iteration, we don't have sum to combine with new\n",
    "    else: emo_tag_sum=emo_tag_new+emo_tag_sum #combine two lists of series into new series\n",
    "        \n"
   ]
  },
  {
   "cell_type": "code",
   "execution_count": 8,
   "id": "8a871de3",
   "metadata": {},
   "outputs": [],
   "source": [
    "df['Emotions']=emo_tag_sum.apply(tuple) #add it to the dataframe"
   ]
  },
  {
   "cell_type": "code",
   "execution_count": 9,
   "id": "82fe862c",
   "metadata": {},
   "outputs": [
    {
     "name": "stderr",
     "output_type": "stream",
     "text": [
      "[nltk_data] Downloading package vader_lexicon to\n",
      "[nltk_data]     /Users/syunie/nltk_data...\n",
      "[nltk_data]   Package vader_lexicon is already up-to-date!\n"
     ]
    }
   ],
   "source": [
    "#Update Sentiments Using Vader\n",
    "\n",
    "nltk.download('vader_lexicon')\n",
    "from nltk.sentiment.vader import SentimentIntensityAnalyzer\n",
    "sent = SentimentIntensityAnalyzer()\n",
    "\n",
    "df['New_Sentiment'] = df['Full_Text'].apply(lambda mention: list(sent.polarity_scores(mention).values())) \n",
    "#new sentiment now contians list of neg,neu,pos,compound\n",
    "#The compound score is the sum of positive, negative & neutral scores which is then normalized between -1(most extreme negative) and +1 (most extreme positive).\n",
    "\n"
   ]
  },
  {
   "cell_type": "code",
   "execution_count": 10,
   "id": "1819a378",
   "metadata": {},
   "outputs": [],
   "source": [
    "#for result visualization\n",
    "df['New_Pos']=df['New_Sentiment'].apply(lambda emotion: emotion[0])\n",
    "df['New_Neg']=df['New_Sentiment'].apply(lambda emotion: emotion[1])\n",
    "df['New_Neu']=df['New_Sentiment'].apply(lambda emotion: emotion[2])\n",
    "df['New_Com']=df['New_Sentiment'].apply(lambda emotion: emotion[3])\n",
    "df=df.drop('New_Sentiment',axis=1)"
   ]
  },
  {
   "cell_type": "code",
   "execution_count": 11,
   "id": "1099df09",
   "metadata": {},
   "outputs": [
    {
     "name": "stdout",
     "output_type": "stream",
     "text": [
      "()                                  704224\n",
      "(Sad,)                                7709\n",
      "(Thankful,)                           6175\n",
      "(Angry,)                              5559\n",
      "(Pleasant,)                           5403\n",
      "                                     ...  \n",
      "(Anxiety, Pleasant, Surprise)            1\n",
      "(Frustration, Anxiety, Restful)          1\n",
      "(Anxiety, Thankful, Surprise)            1\n",
      "(Sad, Angry, Thankful, Surprise)         1\n",
      "(Stressful, Annoy)                       1\n",
      "Name: Emotions, Length: 120, dtype: int64\n",
      "\n",
      "\n",
      "\n",
      "   New_Pos  New_Neg  New_Neu  New_Com\n",
      "0    0.000    0.660    0.340   0.8513\n",
      "1    0.168    0.619    0.212   0.1280\n",
      "2    0.289    0.711    0.000  -0.5667\n",
      "3    0.000    1.000    0.000   0.0000\n",
      "4    0.127    0.556    0.317   0.5267\n"
     ]
    }
   ],
   "source": [
    "#for output visualization\n",
    "print(df.Emotions.value_counts())\n",
    "print()\n",
    "print()\n",
    "print()\n",
    "print(df[['New_Pos','New_Neg','New_Neu','New_Com']].head())"
   ]
  },
  {
   "cell_type": "markdown",
   "id": "e1f0cf25",
   "metadata": {},
   "source": [
    "# Topics of Each Mentions"
   ]
  },
  {
   "cell_type": "markdown",
   "id": "3a18b574",
   "metadata": {},
   "source": [
    "What are each mentions talking about?"
   ]
  },
  {
   "cell_type": "code",
   "execution_count": 12,
   "id": "379f9a75",
   "metadata": {},
   "outputs": [],
   "source": [
    "#initiate Series objects\n",
    "aboutrow=pd.Series(dtype=str) \n",
    "abouteach=pd.Series(dtype=str) \n",
    "handles = pd.read_csv('Brand Official Handle Keywords.csv')\n",
    "brand_keys=handles.keys().tolist()\n",
    "\n",
    "#iterate for all brands\n",
    "for i in range(len(brand_keys)):\n",
    "    abouteach= df.Full_Text.map(lambda txt: brand_keys[i] if (brand_keys[i].lower() in txt) else None )\n",
    "    aboutrow=aboutrow.combine(abouteach, lambda row, each: each if each==brand_keys[i] else row)\n",
    "\n",
    "df['About']=aboutrow #add new column of df for collective brand tags"
   ]
  },
  {
   "cell_type": "code",
   "execution_count": 13,
   "id": "e0fc3c9c",
   "metadata": {},
   "outputs": [
    {
     "name": "stdout",
     "output_type": "stream",
     "text": [
      "Venmo                111576\n",
      "Diet Coke             56698\n",
      "Glossier              53558\n",
      "LaCroix               32845\n",
      "Birchbox              12491\n",
      "Bonobos                3635\n",
      "Everlane               2945\n",
      "Casper                 1497\n",
      "Dollar Shave Club      1481\n",
      "Warby Parker            532\n",
      "Vita Coco               139\n",
      "Name: About, dtype: int64\n"
     ]
    }
   ],
   "source": [
    "print(df.About.value_counts())"
   ]
  },
  {
   "cell_type": "markdown",
   "id": "f857a5a5",
   "metadata": {},
   "source": [
    "# Find Target Group by Sentiments"
   ]
  },
  {
   "cell_type": "markdown",
   "id": "f780a8cd",
   "metadata": {},
   "source": [
    "In order to separate actual customer reactions from the ad posts from official accounts, I tagged the official posts with each brand names and left un-official posts as NaN."
   ]
  },
  {
   "cell_type": "code",
   "execution_count": 14,
   "id": "eeae0f59",
   "metadata": {},
   "outputs": [],
   "source": [
    "inv_dict=dict()\n",
    "def inv_dic(target_dict):\n",
    "    for col in target_dict.keys():\n",
    "        for row in target_dict[col]:\n",
    "            inv_dict[row]=col\n",
    "    return inv_dict\n",
    "\n",
    "inv_brand=inv_dic(handles)\n",
    "df['Official']=df.Author.map(inv_brand)"
   ]
  },
  {
   "cell_type": "code",
   "execution_count": 15,
   "id": "75fe08b0",
   "metadata": {},
   "outputs": [
    {
     "data": {
      "text/plain": [
       "-15902"
      ]
     },
     "execution_count": 15,
     "metadata": {},
     "output_type": "execute_result"
    }
   ],
   "source": [
    "usdf=df[df.Official.isna()] #filter out dataframe with acutual consumers, not the official accounts\n",
    "len(usdf)-len(df)\n"
   ]
  },
  {
   "cell_type": "markdown",
   "id": "e5114418",
   "metadata": {},
   "source": [
    "## Sentiment Analysis"
   ]
  },
  {
   "cell_type": "code",
   "execution_count": 16,
   "id": "072644ac",
   "metadata": {},
   "outputs": [
    {
     "data": {
      "image/png": "[encoded data removed]",
      "text/plain": [
       "<Figure size 432x288 with 1 Axes>"
      ]
     },
     "metadata": {},
     "output_type": "display_data"
    },
    {
     "data": {
      "image/png": "[encoded data removed]",
      "text/plain": [
       "<Figure size 432x288 with 1 Axes>"
      ]
     },
     "metadata": {},
     "output_type": "display_data"
    }
   ],
   "source": [
    "#by About\n",
    "sentiment_types=['New_Pos','New_Neg','New_Neu','New_Com']\n",
    "colorlist=['red','orange','yellow','green','blue','navy','purple','crimson','black','grey','sienna']\n",
    "facecolors=['mistyrose','aliceblue']\n",
    "ylabels=['Sum of Positive Sentiments','Sum of Negative Sentiments']\n",
    "for j in range(0,2):\n",
    "    plt.figure(facecolor=facecolors[j])\n",
    "    for i in range(0,len(brand_keys)):\n",
    "        aboutdf=usdf[usdf.About==brand_keys[i]]\n",
    "        y=aboutdf.groupby(['Weeks'])[sentiment_types[j]].sum()\n",
    "        x=y.keys()\n",
    "        plt.plot(x,y,c=colorlist[i])\n",
    "    plt.legend(brand_keys)\n",
    "    plt.xlabel('Number of weeks 2017-2018')\n",
    "    plt.ylabel(ylabels[j])"
   ]
  },
  {
   "cell_type": "markdown",
   "id": "c46340c8",
   "metadata": {},
   "source": [
    "Seems like people are generally mad about the given brands... at least venmo made a positive progress at the end of the period."
   ]
  },
  {
   "cell_type": "code",
   "execution_count": 17,
   "id": "7e8c54b9",
   "metadata": {},
   "outputs": [
    {
     "data": {
      "text/plain": [
       "Text(0, 0.5, 'Sum of Positive Sentiments')"
      ]
     },
     "execution_count": 17,
     "metadata": {},
     "output_type": "execute_result"
    },
    {
     "data": {
      "image/png": "[encoded data removed]",
      "text/plain": [
       "<Figure size 432x288 with 1 Axes>"
      ]
     },
     "metadata": {
      "needs_background": "light"
     },
     "output_type": "display_data"
    }
   ],
   "source": [
    "#by Page_Type\n",
    "Page_Types=['instagram','twitter','forum','facebook','news','blog']\n",
    "colorlist=['fuchsia','deepskyblue','dimgrey','royalblue','darkcyan','forestgreen']\n",
    "\n",
    "\n",
    "for i in range(0,len(Page_Types)):\n",
    "    aboutdf=usdf[usdf.Page_Type==Page_Types[i]]\n",
    "    y=aboutdf.groupby(['Weeks'])['New_Pos'].sum()\n",
    "    x=y.keys()\n",
    "    plt.plot(x,y,c=colorlist[i])\n",
    "plt.legend(Page_Types)\n",
    "plt.xlabel('Number of Weeks 2017-2018')\n",
    "plt.ylabel('Sum of Positive Sentiments')"
   ]
  },
  {
   "cell_type": "markdown",
   "id": "fe096f30",
   "metadata": {},
   "source": [
    "# Size of Impact of Each Posts"
   ]
  },
  {
   "cell_type": "markdown",
   "id": "6ae48c31",
   "metadata": {},
   "source": [
    "Sponsoring influencers is one of the most popular way to engage with customers nowdays. I thought identifying poweful influencers and sponsoring them to consume CocaCola's product could be a good way to advertise, espeically regarding its low cost compared to tv and actual advertisements."
   ]
  },
  {
   "cell_type": "markdown",
   "id": "170db4b5",
   "metadata": {},
   "source": [
    "Seeing the graph above, Twitter seems like the most powerful media in this dataset. This analysis will be focused mainly on twitter. First, I decided to sort out who has the real "
   ]
  },
  {
   "cell_type": "code",
   "execution_count": 18,
   "id": "68a3792d",
   "metadata": {},
   "outputs": [
    {
     "data": {
      "text/html": [
       "<div>\n",
       "<style scoped>\n",
       "    .dataframe tbody tr th:only-of-type {\n",
       "        vertical-align: middle;\n",
       "    }\n",
       "\n",
       "    .dataframe tbody tr th {\n",
       "        vertical-align: top;\n",
       "    }\n",
       "\n",
       "    .dataframe thead th {\n",
       "        text-align: right;\n",
       "    }\n",
       "</style>\n",
       "<table border=\"1\" class=\"dataframe\">\n",
       "  <thead>\n",
       "    <tr style=\"text-align: right;\">\n",
       "      <th></th>\n",
       "      <th>Author</th>\n",
       "      <th>Followers</th>\n",
       "      <th>Social_Engagements</th>\n",
       "      <th>Weeks</th>\n",
       "      <th>Reach_Ratio</th>\n",
       "    </tr>\n",
       "  </thead>\n",
       "  <tbody>\n",
       "    <tr>\n",
       "      <th>526272</th>\n",
       "      <td>kenvogel</td>\n",
       "      <td>52301.0</td>\n",
       "      <td>80.0</td>\n",
       "      <td>28</td>\n",
       "      <td>0.001530</td>\n",
       "    </tr>\n",
       "    <tr>\n",
       "      <th>460521</th>\n",
       "      <td>sniequist</td>\n",
       "      <td>52297.0</td>\n",
       "      <td>69.0</td>\n",
       "      <td>43</td>\n",
       "      <td>0.001319</td>\n",
       "    </tr>\n",
       "    <tr>\n",
       "      <th>3342</th>\n",
       "      <td>PRADACCIA</td>\n",
       "      <td>51455.0</td>\n",
       "      <td>165.0</td>\n",
       "      <td>14</td>\n",
       "      <td>0.003207</td>\n",
       "    </tr>\n",
       "    <tr>\n",
       "      <th>661144</th>\n",
       "      <td>paulbloomatyale</td>\n",
       "      <td>50770.0</td>\n",
       "      <td>115.0</td>\n",
       "      <td>10</td>\n",
       "      <td>0.002265</td>\n",
       "    </tr>\n",
       "    <tr>\n",
       "      <th>153853</th>\n",
       "      <td>shanebacon</td>\n",
       "      <td>46244.0</td>\n",
       "      <td>99.0</td>\n",
       "      <td>7</td>\n",
       "      <td>0.002141</td>\n",
       "    </tr>\n",
       "    <tr>\n",
       "      <th>456950</th>\n",
       "      <td>baseballcrank</td>\n",
       "      <td>44811.0</td>\n",
       "      <td>86.0</td>\n",
       "      <td>6</td>\n",
       "      <td>0.001919</td>\n",
       "    </tr>\n",
       "    <tr>\n",
       "      <th>463078</th>\n",
       "      <td>BeatsByESTA</td>\n",
       "      <td>43463.0</td>\n",
       "      <td>150.0</td>\n",
       "      <td>6</td>\n",
       "      <td>0.003451</td>\n",
       "    </tr>\n",
       "    <tr>\n",
       "      <th>213342</th>\n",
       "      <td>brandongroeny</td>\n",
       "      <td>43352.0</td>\n",
       "      <td>173.0</td>\n",
       "      <td>49</td>\n",
       "      <td>0.003991</td>\n",
       "    </tr>\n",
       "    <tr>\n",
       "      <th>513725</th>\n",
       "      <td>Green_Footballs</td>\n",
       "      <td>42939.0</td>\n",
       "      <td>94.0</td>\n",
       "      <td>50</td>\n",
       "      <td>0.002189</td>\n",
       "    </tr>\n",
       "    <tr>\n",
       "      <th>269617</th>\n",
       "      <td>araslanian_</td>\n",
       "      <td>42179.0</td>\n",
       "      <td>599.0</td>\n",
       "      <td>12</td>\n",
       "      <td>0.014201</td>\n",
       "    </tr>\n",
       "    <tr>\n",
       "      <th>479979</th>\n",
       "      <td>seankent</td>\n",
       "      <td>42165.0</td>\n",
       "      <td>64.0</td>\n",
       "      <td>45</td>\n",
       "      <td>0.001518</td>\n",
       "    </tr>\n",
       "    <tr>\n",
       "      <th>666457</th>\n",
       "      <td>MIT_CSAIL</td>\n",
       "      <td>41689.0</td>\n",
       "      <td>453.0</td>\n",
       "      <td>1</td>\n",
       "      <td>0.010866</td>\n",
       "    </tr>\n",
       "    <tr>\n",
       "      <th>737897</th>\n",
       "      <td>NMLite</td>\n",
       "      <td>41237.0</td>\n",
       "      <td>248.0</td>\n",
       "      <td>52</td>\n",
       "      <td>0.006014</td>\n",
       "    </tr>\n",
       "    <tr>\n",
       "      <th>572805</th>\n",
       "      <td>ehjovan</td>\n",
       "      <td>40840.0</td>\n",
       "      <td>191.0</td>\n",
       "      <td>7</td>\n",
       "      <td>0.004677</td>\n",
       "    </tr>\n",
       "    <tr>\n",
       "      <th>720064</th>\n",
       "      <td>Felonious_munk</td>\n",
       "      <td>40760.0</td>\n",
       "      <td>309.0</td>\n",
       "      <td>44</td>\n",
       "      <td>0.007581</td>\n",
       "    </tr>\n",
       "    <tr>\n",
       "      <th>259435</th>\n",
       "      <td>LaylaRed1</td>\n",
       "      <td>39239.0</td>\n",
       "      <td>179.0</td>\n",
       "      <td>52</td>\n",
       "      <td>0.004562</td>\n",
       "    </tr>\n",
       "    <tr>\n",
       "      <th>279290</th>\n",
       "      <td>JonErlichman</td>\n",
       "      <td>39187.0</td>\n",
       "      <td>1854.0</td>\n",
       "      <td>11</td>\n",
       "      <td>0.047312</td>\n",
       "    </tr>\n",
       "    <tr>\n",
       "      <th>60060</th>\n",
       "      <td>Fuctupmind</td>\n",
       "      <td>39104.0</td>\n",
       "      <td>65.0</td>\n",
       "      <td>6</td>\n",
       "      <td>0.001662</td>\n",
       "    </tr>\n",
       "    <tr>\n",
       "      <th>87372</th>\n",
       "      <td>CyrusMMcQueen</td>\n",
       "      <td>38800.0</td>\n",
       "      <td>202.0</td>\n",
       "      <td>7</td>\n",
       "      <td>0.005206</td>\n",
       "    </tr>\n",
       "    <tr>\n",
       "      <th>378151</th>\n",
       "      <td>Outkick</td>\n",
       "      <td>38512.0</td>\n",
       "      <td>140.0</td>\n",
       "      <td>39</td>\n",
       "      <td>0.003635</td>\n",
       "    </tr>\n",
       "    <tr>\n",
       "      <th>731349</th>\n",
       "      <td>savannahmay34</td>\n",
       "      <td>36542.0</td>\n",
       "      <td>58.0</td>\n",
       "      <td>12</td>\n",
       "      <td>0.001587</td>\n",
       "    </tr>\n",
       "    <tr>\n",
       "      <th>563078</th>\n",
       "      <td>mollysoda</td>\n",
       "      <td>35498.0</td>\n",
       "      <td>371.0</td>\n",
       "      <td>48</td>\n",
       "      <td>0.010451</td>\n",
       "    </tr>\n",
       "    <tr>\n",
       "      <th>663617</th>\n",
       "      <td>BIackPplVids</td>\n",
       "      <td>34710.0</td>\n",
       "      <td>114.0</td>\n",
       "      <td>23</td>\n",
       "      <td>0.003284</td>\n",
       "    </tr>\n",
       "    <tr>\n",
       "      <th>37654</th>\n",
       "      <td>JessicaHuseman</td>\n",
       "      <td>34053.0</td>\n",
       "      <td>112.0</td>\n",
       "      <td>5</td>\n",
       "      <td>0.003289</td>\n",
       "    </tr>\n",
       "    <tr>\n",
       "      <th>34625</th>\n",
       "      <td>AzadRight</td>\n",
       "      <td>33016.0</td>\n",
       "      <td>2356.0</td>\n",
       "      <td>44</td>\n",
       "      <td>0.071359</td>\n",
       "    </tr>\n",
       "    <tr>\n",
       "      <th>457685</th>\n",
       "      <td>KimberlyNFoster</td>\n",
       "      <td>32961.0</td>\n",
       "      <td>131.0</td>\n",
       "      <td>5</td>\n",
       "      <td>0.003974</td>\n",
       "    </tr>\n",
       "    <tr>\n",
       "      <th>715199</th>\n",
       "      <td>JamesGleick</td>\n",
       "      <td>32941.0</td>\n",
       "      <td>158.0</td>\n",
       "      <td>1</td>\n",
       "      <td>0.004796</td>\n",
       "    </tr>\n",
       "    <tr>\n",
       "      <th>203200</th>\n",
       "      <td>BasedChasen</td>\n",
       "      <td>32524.0</td>\n",
       "      <td>164.0</td>\n",
       "      <td>21</td>\n",
       "      <td>0.005042</td>\n",
       "    </tr>\n",
       "    <tr>\n",
       "      <th>12889</th>\n",
       "      <td>BBWslayer666</td>\n",
       "      <td>31718.0</td>\n",
       "      <td>77.0</td>\n",
       "      <td>3</td>\n",
       "      <td>0.002428</td>\n",
       "    </tr>\n",
       "    <tr>\n",
       "      <th>663218</th>\n",
       "      <td>Snitfit</td>\n",
       "      <td>31422.0</td>\n",
       "      <td>38.0</td>\n",
       "      <td>3</td>\n",
       "      <td>0.001209</td>\n",
       "    </tr>\n",
       "  </tbody>\n",
       "</table>\n",
       "</div>"
      ],
      "text/plain": [
       "                 Author  Followers  Social_Engagements  Weeks  Reach_Ratio\n",
       "526272         kenvogel    52301.0                80.0     28     0.001530\n",
       "460521        sniequist    52297.0                69.0     43     0.001319\n",
       "3342          PRADACCIA    51455.0               165.0     14     0.003207\n",
       "661144  paulbloomatyale    50770.0               115.0     10     0.002265\n",
       "153853       shanebacon    46244.0                99.0      7     0.002141\n",
       "456950    baseballcrank    44811.0                86.0      6     0.001919\n",
       "463078      BeatsByESTA    43463.0               150.0      6     0.003451\n",
       "213342    brandongroeny    43352.0               173.0     49     0.003991\n",
       "513725  Green_Footballs    42939.0                94.0     50     0.002189\n",
       "269617      araslanian_    42179.0               599.0     12     0.014201\n",
       "479979         seankent    42165.0                64.0     45     0.001518\n",
       "666457        MIT_CSAIL    41689.0               453.0      1     0.010866\n",
       "737897           NMLite    41237.0               248.0     52     0.006014\n",
       "572805          ehjovan    40840.0               191.0      7     0.004677\n",
       "720064   Felonious_munk    40760.0               309.0     44     0.007581\n",
       "259435        LaylaRed1    39239.0               179.0     52     0.004562\n",
       "279290     JonErlichman    39187.0              1854.0     11     0.047312\n",
       "60060        Fuctupmind    39104.0                65.0      6     0.001662\n",
       "87372     CyrusMMcQueen    38800.0               202.0      7     0.005206\n",
       "378151          Outkick    38512.0               140.0     39     0.003635\n",
       "731349    savannahmay34    36542.0                58.0     12     0.001587\n",
       "563078        mollysoda    35498.0               371.0     48     0.010451\n",
       "663617     BIackPplVids    34710.0               114.0     23     0.003284\n",
       "37654    JessicaHuseman    34053.0               112.0      5     0.003289\n",
       "34625         AzadRight    33016.0              2356.0     44     0.071359\n",
       "457685  KimberlyNFoster    32961.0               131.0      5     0.003974\n",
       "715199      JamesGleick    32941.0               158.0      1     0.004796\n",
       "203200      BasedChasen    32524.0               164.0     21     0.005042\n",
       "12889      BBWslayer666    31718.0                77.0      3     0.002428\n",
       "663218          Snitfit    31422.0                38.0      3     0.001209"
      ]
     },
     "execution_count": 18,
     "metadata": {},
     "output_type": "execute_result"
    }
   ],
   "source": [
    "#I looked up on twitter and found that accounts with negative followers are mostly suspended or expired accounts, \n",
    "#so I will clean them out.\n",
    "df=df[df.Followers>=0]\n",
    "twdf=df[df.Page_Type=='twitter'] #extracting the focus\n",
    "topauthors=twdf[['Author','Followers','Social_Engagements','Weeks']].sort_values(by=['Followers'],ascending=False).drop_duplicates(subset=['Author']).head(5000)\n",
    "\n",
    "#find the top 5000 authors sorted by highest number of followers\n",
    "topauthors['Reach_Ratio']=topauthors.Social_Engagements.div(topauthors.Followers)\n",
    "topauthors=topauthors.sort_values(by=['Reach_Ratio'],ascending=False).head(500)\n",
    "\n",
    "#Now with the 500 top authors, filter out people with inactive or unresponsive follower base\n",
    "avgRR=topauthors.Reach_Ratio.mean()\n",
    "topauthors=topauthors[topauthors.Reach_Ratio>avgRR] #top authors with Reach_Ratio above average. Now we narrowed it down to 76 people\n",
    "topauthors.sort_values(by=['Followers'],ascending=False).tail(30)\n",
    "\n",
    "#It will be pracitically impossible to collaborate with huge official accounts such as Donald Trump, CNN, things like these\n",
    "#Thus, the stakeholder may review table below to contact for collaboration to these real, unofficial, medium sized accounts.\n"
   ]
  },
  {
   "cell_type": "markdown",
   "id": "b052f479",
   "metadata": {},
   "source": [
    "# Conclusion"
   ]
  },
  {
   "cell_type": "markdown",
   "id": "cd813e54",
   "metadata": {},
   "source": [
    "## Cleaning"
   ]
  },
  {
   "cell_type": "markdown",
   "id": "8e24b449",
   "metadata": {},
   "source": [
    "I started off by checking and casting necessary datatypes for each columns. I found that most of the columns had mixed data types of string, null, and numerics. Some of the columns that should only have positive values (counts) had negative values as well so I looked up why it ended up like that. I found that most of those accounts with negative values are deactivated or suspedned, and they seemed like not signigicant enough to make a change in overall anaylsis. Thus I decided to just drop them for efficiency. It also had too many columns for social engagements because they were flattened out for each types of social meida and engagement types, so I just added them up for vertically narrower dataframe. It can be flattened out again if neccesary with the Page_Type column. For further analysis, don't try to just dropna because null values in official means they are unofficial, and it's not an error"
   ]
  },
  {
   "cell_type": "markdown",
   "id": "815b0c51",
   "metadata": {},
   "source": [
    "## Analysis & Comments for Stakeholders"
   ]
  },
  {
   "cell_type": "markdown",
   "id": "b56b8a0c",
   "metadata": {},
   "source": [
    "I was told that the business analyst found that the sentiment given in the original dataset was unsatisfactory. So I did a new analysis using VADER and NLTK. I think this makes more sense because sentiments are not 1-dimensional (mad-happy). I also tagged emotions that could be used further, but I didn't use it in this case because sentiments seemed good enough. "
   ]
  },
  {
   "cell_type": "markdown",
   "id": "f4617e7e",
   "metadata": {},
   "source": [
    "I used this dataset to find who to collaborate with for promotions. For bigger corporations, It seemed like people are expressing the biggest opinions and talking very much about Venmo, which seems like a great option to collaborate with, for enterprise scale. I suggest to also look for sponsoring smaller accounts because in this era of data overflow, people are looking for more human and personal information especially when they are looking for an opinion of products. Just shown how \"brand name+reddit\" is always in the suggested search on Google. Therefore, I collected 5000 people with the highest followers, and then 500 people with highest reach ratio (social engagement divided by followers) to filter out fake accounts or with inactive follower base, and then 30 people with the least followers because we are looking for small users but with big enough follower size to make impact with their sponsorships."
   ]
  },
  {
   "cell_type": "markdown",
   "id": "8b3208ea",
   "metadata": {},
   "source": [
    "For more accurate analaysis, I wish the age of users are verified, have more data on the actual client --DietCoke(CocaCola), and check what happend to Venmo in 2017. It seems like people were very unsatifised with Venmo in the beginning of 2017, according to the negative sentiment graph above. This should be done before deciding to collaborate with Venmo because their repuation may tarnish client's reputation if they decide to collaborate"
   ]
  },
  {
   "cell_type": "code",
   "execution_count": null,
   "id": "11353576",
   "metadata": {},
   "outputs": [],
   "source": []
  }
 ],
 "metadata": {
  "kernelspec": {
   "display_name": "Python 3 (ipykernel)",
   "language": "python",
   "name": "python3"
  },
  "language_info": {
   "codemirror_mode": {
    "name": "ipython",
    "version": 3
   },
   "file_extension": ".py",
   "mimetype": "text/x-python",
   "name": "python",
   "nbconvert_exporter": "python",
   "pygments_lexer": "ipython3",
   "version": "3.9.7"
  }
 },
 "nbformat": 4,
 "nbformat_minor": 5
}
